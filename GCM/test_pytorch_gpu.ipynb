{
 "cells": [
  {
   "cell_type": "code",
   "execution_count": 1,
   "metadata": {},
   "outputs": [
    {
     "name": "stdout",
     "output_type": "stream",
     "text": [
      "CUDA available: True\n",
      "Current CUDA Device: 0\n",
      "GPU Count: 1\n",
      "GPU Name: NVIDIA GeForce RTX 2060 with Max-Q Design\n"
     ]
    }
   ],
   "source": [
    "import torch\n",
    "\n",
    "# Check if CUDA (GPU support) is available\n",
    "print(\"CUDA available:\", torch.cuda.is_available())\n",
    "\n",
    "if torch.cuda.is_available():\n",
    "    # Get the current CUDA device\n",
    "    current_device = torch.cuda.current_device()\n",
    "    print(\"Current CUDA Device:\", current_device)\n",
    "    \n",
    "    # Total number of GPUs available\n",
    "    print(\"GPU Count:\", torch.cuda.device_count())\n",
    "    \n",
    "    # Name of the current CUDA device\n",
    "    print(\"GPU Name:\", torch.cuda.get_device_name(current_device))\n"
   ]
  }
 ],
 "metadata": {
  "kernelspec": {
   "display_name": "DL",
   "language": "python",
   "name": "python3"
  },
  "language_info": {
   "codemirror_mode": {
    "name": "ipython",
    "version": 3
   },
   "file_extension": ".py",
   "mimetype": "text/x-python",
   "name": "python",
   "nbconvert_exporter": "python",
   "pygments_lexer": "ipython3",
   "version": "3.12.9"
  }
 },
 "nbformat": 4,
 "nbformat_minor": 2
}
